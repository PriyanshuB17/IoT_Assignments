{
 "cells": [
  {
   "cell_type": "markdown",
   "id": "448c6848-381e-4c86-9cae-c737f594fdb4",
   "metadata": {},
   "source": [
    "# Pandas Assignment"
   ]
  },
  {
   "cell_type": "code",
   "execution_count": 84,
   "id": "b8e62658-5b4e-435d-b7d6-2ec15eb1ad87",
   "metadata": {},
   "outputs": [],
   "source": [
    "import numpy as np\n",
    "import pandas as pd"
   ]
  },
  {
   "cell_type": "markdown",
   "id": "ce2fade0-3388-462d-9922-b62b8d24c226",
   "metadata": {},
   "source": [
    "1. Write a Pandas program to create and display a one-dimensional array-like object containing an array of data.\n"
   ]
  },
  {
   "cell_type": "code",
   "execution_count": 85,
   "id": "5dd03095-e74f-4b1a-ad3a-e67a9434e7ee",
   "metadata": {},
   "outputs": [
    {
     "name": "stdout",
     "output_type": "stream",
     "text": [
      "<IntegerArray>\n",
      "[11, 22, 33, 44, 55]\n",
      "Length: 5, dtype: Int64\n"
     ]
    }
   ],
   "source": [
    "arr = pd.array([11, 22, 33, 44, 55])\n",
    "print(arr)"
   ]
  },
  {
   "cell_type": "markdown",
   "id": "18cf390d-3173-4f67-b8b3-c6eef6dcbd15",
   "metadata": {},
   "source": [
    "2. Write a Pandas program to convert a Panda module Series to Python list and it’s type."
   ]
  },
  {
   "cell_type": "code",
   "execution_count": 86,
   "id": "50754871-0f52-4a62-949c-4558e8cbef20",
   "metadata": {},
   "outputs": [
    {
     "name": "stdout",
     "output_type": "stream",
     "text": [
      "0    10\n",
      "1    20\n",
      "2    30\n",
      "3    40\n",
      "4    50\n",
      "dtype: int64\n",
      "Type of s1 = <class 'pandas.core.series.Series'>\n",
      "[0    10\n",
      "1    20\n",
      "2    30\n",
      "3    40\n",
      "4    50\n",
      "dtype: int64]\n",
      "Type of l1 = <class 'list'>\n"
     ]
    }
   ],
   "source": [
    "s1 = pd.Series([10, 20, 30, 40, 50])\n",
    "l1 = [s1]\n",
    "print(s1)\n",
    "print(f\"Type of s1 = {type(s1)}\")\n",
    "print(l1)\n",
    "print(f\"Type of l1 = {type(l1)}\")"
   ]
  },
  {
   "cell_type": "markdown",
   "id": "84d0a08d-3d96-4b7a-9144-e1ed448322bc",
   "metadata": {},
   "source": [
    "3. Write a Pandas program to add, subtract, multiple and divide two Pandas Series.\n",
    "   Sample Series: [2, 4, 6, 8, 10], [1, 3, 5, 7, 9]"
   ]
  },
  {
   "cell_type": "code",
   "execution_count": 87,
   "id": "096bb25b-9d10-4ce8-9fb2-9c4c9f08c5dd",
   "metadata": {},
   "outputs": [
    {
     "name": "stdout",
     "output_type": "stream",
     "text": [
      "0    165\n",
      "1     99\n",
      "2     33\n",
      "3     55\n",
      "4     99\n",
      "dtype: int64\n",
      "0    11\n",
      "1    11\n",
      "2    11\n",
      "3    11\n",
      "4    33\n",
      "dtype: int64\n",
      "0    6776\n",
      "1    2420\n",
      "2     242\n",
      "3     726\n",
      "4    2178\n",
      "dtype: int64\n",
      "0    1.142857\n",
      "1    1.250000\n",
      "2    2.000000\n",
      "3    1.500000\n",
      "4    2.000000\n",
      "dtype: float64\n"
     ]
    }
   ],
   "source": [
    "arr1 = pd.Series([88, 55, 22, 33, 66])\n",
    "arr2 = pd.Series([77, 44, 11, 22, 33])\n",
    "print(arr1+arr2)\n",
    "print(arr1-arr2)\n",
    "print(arr1*arr2)\n",
    "print(arr1/arr2)\n"
   ]
  },
  {
   "cell_type": "markdown",
   "id": "d25cbcda-a57d-48e9-82f5-c7a26680af55",
   "metadata": {},
   "source": [
    "4. Write a Pandas program to convert a dictionary to a Pandas series."
   ]
  },
  {
   "cell_type": "code",
   "execution_count": 88,
   "id": "506e9440-4ee1-490d-ad59-10b3ae4f6297",
   "metadata": {},
   "outputs": [
    {
     "name": "stdout",
     "output_type": "stream",
     "text": [
      "Dictionary: {'name': 'Priyanshu', 'course': 'DESD', 'Batch': 'E3'}\n",
      "Series: \n",
      "name      Priyanshu\n",
      "course         DESD\n",
      "Batch            E3\n",
      "dtype: object\n"
     ]
    }
   ],
   "source": [
    "dict = {\"name\":\"Priyanshu\", \"course\":\"DESD\", \"Batch\":\"E3\"}\n",
    "print(f\"Dictionary: {dict}\")\n",
    "s1 = pd.Series(dict)\n",
    "print(f\"Series: \\n{s1}\")"
   ]
  },
  {
   "cell_type": "markdown",
   "id": "83a43e0b-a4b1-4416-bb41-8f86b2e42085",
   "metadata": {},
   "source": [
    "5. Write a Pandas program to convert a NumPy array to a Pandas series."
   ]
  },
  {
   "cell_type": "code",
   "execution_count": 89,
   "id": "a1c09ae4-c357-4180-8c8b-0e33e6ddb664",
   "metadata": {},
   "outputs": [
    {
     "name": "stdout",
     "output_type": "stream",
     "text": [
      "arr: [7 4 1 8 5]\n",
      "Type of arr: <class 'numpy.ndarray'>\n",
      "s1: 0    7\n",
      "1    4\n",
      "2    1\n",
      "3    8\n",
      "4    5\n",
      "dtype: int64\n",
      "Type of s1: <class 'pandas.core.series.Series'>\n"
     ]
    }
   ],
   "source": [
    "arr = np.array([7, 4, 1, 8, 5])\n",
    "print(f\"arr: {arr}\")\n",
    "print(f\"Type of arr: {type(arr)}\")\n",
    "s1 = pd.Series(arr)\n",
    "print(f\"s1: {s1}\")\n",
    "print(f\"Type of s1: {type(s1)}\")"
   ]
  },
  {
   "cell_type": "markdown",
   "id": "9fda2dec-999a-49c0-a8ea-42ef0d385b48",
   "metadata": {},
   "source": [
    "6. Write a Pandas program to change the data type of given a column or a Series."
   ]
  },
  {
   "cell_type": "code",
   "execution_count": 90,
   "id": "c751910b-4490-4042-b4d9-5b454e35811b",
   "metadata": {},
   "outputs": [
    {
     "name": "stdout",
     "output_type": "stream",
     "text": [
      "dict: \n",
      "[{'name': 'P1', 'age': 23, 'id': 123}, {'name': 'P2', 'age': 26, 'id': 654}, {'name': 'P3', 'age': 20, 'id': 769}]\n",
      "Type of dict: <class 'list'>\n",
      "df: \n",
      "  name  age   id\n",
      "0   P1   23  123\n",
      "1   P2   26  654\n",
      "2   P3   20  769\n",
      "Before conversion of Datatype: \n",
      "name    object\n",
      "age      int64\n",
      "id       int64\n",
      "dtype: object\n",
      "After conversion of Datatype: \n",
      "name     object\n",
      "age     float64\n",
      "id        int64\n",
      "dtype: object\n",
      "Type of df: <class 'pandas.core.frame.DataFrame'>\n",
      "Array: \n",
      "[['P1' 23.0 123]\n",
      " ['P2' 26.0 654]\n",
      " ['P3' 20.0 769]]\n",
      "<class 'numpy.ndarray'>\n",
      "object\n"
     ]
    }
   ],
   "source": [
    "dict = [{\"name\":\"P1\", \"age\":23, \"id\": 123}, {\"name\": \"P2\", \"age\":26, \"id\": 654}, {\"name\": \"P3\", \"age\":20, \"id\":769}]\n",
    "print(f\"dict: \\n{dict}\")\n",
    "print(f\"Type of dict: {type(dict)}\")\n",
    "\n",
    "df = pd.DataFrame(dict)\n",
    "print(f\"df: \\n{df}\")\n",
    "\n",
    "print(f\"Before conversion of Datatype: \\n{df.dtypes}\")\n",
    "df = df.astype({\"name\":'float', \"age\":'float'}, errors='ignore')\n",
    "print(f\"After conversion of Datatype: \\n{df.dtypes}\")\n",
    "\n",
    "print(f\"Type of df: {type(df)}\")\n",
    "\n",
    "n = np.array(df)\n",
    "print(f\"Array: \\n{n}\")\n",
    "print(type(n))\n",
    "print(n.dtype)"
   ]
  },
  {
   "cell_type": "markdown",
   "id": "3cbeb040-73f8-4bc7-92c2-8d8af538cd6d",
   "metadata": {},
   "source": [
    "7. Write a Pandas program to convert a given Series to an array."
   ]
  },
  {
   "cell_type": "code",
   "execution_count": 91,
   "id": "a94e8faa-06fc-4535-ac08-1a9ed2681315",
   "metadata": {},
   "outputs": [
    {
     "name": "stdout",
     "output_type": "stream",
     "text": [
      "s1: \n",
      "0    1\n",
      "1    2\n",
      "2    3\n",
      "3    4\n",
      "4    5\n",
      "dtype: int64\n",
      "Type of s1: <class 'pandas.core.series.Series'>\n",
      "arr: \n",
      "[1 2 3 4 5]\n",
      "Type of arr: <class 'numpy.ndarray'>\n"
     ]
    }
   ],
   "source": [
    "s1 = pd.Series([1, 2, 3, 4, 5])\n",
    "print(f\"s1: \\n{s1}\")\n",
    "print(f\"Type of s1: {type(s1)}\")\n",
    "arr = np.array(s1)\n",
    "print(f\"arr: \\n{arr}\")\n",
    "print(f\"Type of arr: {type(arr)}\")"
   ]
  },
  {
   "cell_type": "markdown",
   "id": "471618e9-5ccc-41c8-a707-4a13342b19cf",
   "metadata": {},
   "source": [
    "8. Write a Pandas program to create a dataframe from a dictionary and display it."
   ]
  },
  {
   "cell_type": "code",
   "execution_count": 92,
   "id": "1261a81f-58b9-4fb2-aeab-eb9b981a226c",
   "metadata": {},
   "outputs": [
    {
     "name": "stdout",
     "output_type": "stream",
     "text": [
      "dict: \n",
      "[{'name': 'P1', 'age': 23, 'id': 123}, {'name': 'P2', 'age': 26, 'id': 654}, {'name': 'P3', 'age': 20, 'id': 769}]\n",
      "Type of dict: <class 'list'>\n",
      "df: \n",
      "  name  age   id\n",
      "0   P1   23  123\n",
      "1   P2   26  654\n",
      "2   P3   20  769\n",
      "Type of df: <class 'pandas.core.frame.DataFrame'>\n"
     ]
    }
   ],
   "source": [
    "dict = [{\"name\":\"P1\", \"age\":23, \"id\": 123}, {\"name\": \"P2\", \"age\":26, \"id\": 654}, {\"name\": \"P3\", \"age\":20, \"id\":769}]\n",
    "print(f\"dict: \\n{dict}\")\n",
    "print(f\"Type of dict: {type(dict)}\")\n",
    "df = pd.DataFrame(dict)\n",
    "print(f\"df: \\n{df}\")\n",
    "print(f\"Type of df: {type(df)}\")"
   ]
  },
  {
   "cell_type": "markdown",
   "id": "bec7e21a-e1d4-43f7-8142-9aed0fa033c3",
   "metadata": {},
   "source": [
    "9. i) Create a list of empids and names (10 employees).\n",
    "   ii) Convert list into Series.\n",
    "   iii) Print type of Series.\n",
    "   iv) Convert Series into DataFrame.\n",
    "   v) a) Display all records.\n",
    "      b) Display first five records.\n",
    "      c) Display last five records.\n",
    "      d) Display first two and last two records.\n",
    "      e) Display name of 5th employee.\n",
    "      f) Display record of 4th employee.\n",
    "   vi) Save the record in csv file (MyRecord.csv)`"
   ]
  },
  {
   "cell_type": "code",
   "execution_count": 93,
   "id": "ff1c6e79-88fe-486b-a4ec-9e286adc25f7",
   "metadata": {},
   "outputs": [
    {
     "name": "stdout",
     "output_type": "stream",
     "text": [
      "l1 : [101, 121, 137, 146, 175, 184, 218, 257, 305, 319]\n",
      "Type of l1 = <class 'list'>\n",
      "l2 : ['Aakash', 'Aashay', 'Pratham', 'Pritam', 'Nikhil', 'Saurabh', 'Jitendra', 'kartik', 'Shyam', 'Vinayak']\n",
      "Type of l2 = <class 'list'>\n",
      "s1: \n",
      "101      Aakash\n",
      "121      Aashay\n",
      "137     Pratham\n",
      "146      Pritam\n",
      "175      Nikhil\n",
      "184     Saurabh\n",
      "218    Jitendra\n",
      "257      kartik\n",
      "305       Shyam\n",
      "319     Vinayak\n",
      "dtype: object\n",
      "Type of s1 = <class 'pandas.core.series.Series'>\n",
      "dataframe: \n",
      "         Name\n",
      "101    Aakash\n",
      "121    Aashay\n",
      "137   Pratham\n",
      "146    Pritam\n",
      "175    Nikhil\n",
      "184   Saurabh\n",
      "218  Jitendra\n",
      "257    kartik\n",
      "305     Shyam\n",
      "319   Vinayak\n",
      "Type of df = <class 'pandas.core.frame.DataFrame'>\n",
      "All records:          Name\n",
      "101    Aakash\n",
      "121    Aashay\n",
      "137   Pratham\n",
      "146    Pritam\n",
      "175    Nikhil\n",
      "184   Saurabh\n",
      "218  Jitendra\n",
      "257    kartik\n",
      "305     Shyam\n",
      "319   Vinayak\n",
      "First five records: \n",
      "        Name\n",
      "101   Aakash\n",
      "121   Aashay\n",
      "137  Pratham\n",
      "146   Pritam\n",
      "175   Nikhil\n",
      "Last five records: \n",
      "         Name\n",
      "184   Saurabh\n",
      "218  Jitendra\n",
      "257    kartik\n",
      "305     Shyam\n",
      "319   Vinayak\n",
      "First two records: \n",
      "        Name\n",
      "101  Aakash\n",
      "121  Aashay\n",
      "Last two records: \n",
      "        Name\n",
      "305    Shyam\n",
      "319  Vinayak\n",
      "\n",
      "Name of 5th employee: \n",
      "[['Nikhil']]\n",
      "\n",
      "Record of 4th employee: \n",
      "Name    Pritam\n",
      "Name: 146, dtype: object\n"
     ]
    },
    {
     "data": {
      "text/html": [
       "<div>\n",
       "<style scoped>\n",
       "    .dataframe tbody tr th:only-of-type {\n",
       "        vertical-align: middle;\n",
       "    }\n",
       "\n",
       "    .dataframe tbody tr th {\n",
       "        vertical-align: top;\n",
       "    }\n",
       "\n",
       "    .dataframe thead th {\n",
       "        text-align: right;\n",
       "    }\n",
       "</style>\n",
       "<table border=\"1\" class=\"dataframe\">\n",
       "  <thead>\n",
       "    <tr style=\"text-align: right;\">\n",
       "      <th></th>\n",
       "      <th>Unnamed: 0</th>\n",
       "      <th>Name</th>\n",
       "    </tr>\n",
       "  </thead>\n",
       "  <tbody>\n",
       "    <tr>\n",
       "      <th>0</th>\n",
       "      <td>101</td>\n",
       "      <td>Aakash</td>\n",
       "    </tr>\n",
       "    <tr>\n",
       "      <th>1</th>\n",
       "      <td>121</td>\n",
       "      <td>Aashay</td>\n",
       "    </tr>\n",
       "    <tr>\n",
       "      <th>2</th>\n",
       "      <td>137</td>\n",
       "      <td>Pratham</td>\n",
       "    </tr>\n",
       "    <tr>\n",
       "      <th>3</th>\n",
       "      <td>146</td>\n",
       "      <td>Pritam</td>\n",
       "    </tr>\n",
       "    <tr>\n",
       "      <th>4</th>\n",
       "      <td>175</td>\n",
       "      <td>Nikhil</td>\n",
       "    </tr>\n",
       "  </tbody>\n",
       "</table>\n",
       "</div>"
      ],
      "text/plain": [
       "   Unnamed: 0     Name\n",
       "0         101   Aakash\n",
       "1         121   Aashay\n",
       "2         137  Pratham\n",
       "3         146   Pritam\n",
       "4         175   Nikhil"
      ]
     },
     "execution_count": 93,
     "metadata": {},
     "output_type": "execute_result"
    }
   ],
   "source": [
    "# l1 = [[101, \"Aakash\"], [121, \"Aashay\"], [137, \"Pratham\"], [146, \"Pritam\"], [175, \"Nikhil\"], [184, \"Saurabh\"], [218, \"Jitendra\"], [257, \"Kartik\"], [305, \"Shyam\"], [319, \"Vinayak\"]]\n",
    "#i) Create a list of empids and names (10 employees). \n",
    "\n",
    "l1 = [101, 121, 137, 146, 175, 184, 218, 257, 305, 319]\n",
    "l2 = [\"Aakash\", \"Aashay\", \"Pratham\", \"Pritam\", \"Nikhil\", \"Saurabh\", \"Jitendra\", \"kartik\", \"Shyam\", \"Vinayak\"]\n",
    "print(f\"l1 : {l1}\")\n",
    "print(f\"Type of l1 = {type(l1)}\")\n",
    "print(f\"l2 : {l2}\")\n",
    "print(f\"Type of l2 = {type(l2)}\")\n",
    "\n",
    "#ii) Convert list into Series.\n",
    "\n",
    "s1 = pd.Series(l2, index = l1)\n",
    "print(f\"s1: \\n{s1}\")\n",
    "\n",
    "#iii) Print type of Series.\n",
    "\n",
    "print(f\"Type of s1 = {type(s1)}\")\n",
    "\n",
    "#iv) Convert Series into DataFrame.\n",
    "\n",
    "df = pd.DataFrame(data = s1, columns = ['Name'])\n",
    "print(f\"dataframe: \\n{df}\")\n",
    "print(f\"Type of df = {type(df)}\")\n",
    "\n",
    "#v) a) Display all records. \n",
    "\n",
    "print(f\"All records: {df}\")\n",
    "\n",
    "#b) Display first five records. c) Display last five records. d) Display first two and last two records. \n",
    "\n",
    "print(f\"First five records: \\n{df.head()}\")\n",
    "print(f\"Last five records: \\n{df.tail()}\")\n",
    "print(f\"First two records: \\n {df.head(2)}\")\n",
    "print(f\"Last two records: \\n{df.tail(2)}\")\n",
    "print()\n",
    "\n",
    "#e) Display name of 5th employee.\n",
    "\n",
    "res = df.iloc[[4], df.columns.isin(['Name'])].values\n",
    "print(f\"Name of 5th employee: \\n{res}\")\n",
    "\n",
    "#f) Display record of 4th employee.\n",
    "\n",
    "res = df.iloc[3]\n",
    "print(f\"\\nRecord of 4th employee: \\n{res}\")\n",
    "\n",
    "#vi) Save the record in csv file (MyRecord.csv)\n",
    "df.to_csv('./MyRecord.csv')\n",
    "\n",
    "df = pd.read_csv('./MyRecord.csv')\n",
    "df.head()"
   ]
  },
  {
   "cell_type": "markdown",
   "id": "5e30da25-6f79-45e2-966f-c60836715126",
   "metadata": {},
   "source": [
    "10. i) Read the MyRecord.csv file.\n",
    "    ii) Create a new column Salary."
   ]
  },
  {
   "cell_type": "code",
   "execution_count": 94,
   "id": "4f6e2708-77ef-4b3c-996e-c2ba2573e3a0",
   "metadata": {},
   "outputs": [
    {
     "data": {
      "text/html": [
       "<div>\n",
       "<style scoped>\n",
       "    .dataframe tbody tr th:only-of-type {\n",
       "        vertical-align: middle;\n",
       "    }\n",
       "\n",
       "    .dataframe tbody tr th {\n",
       "        vertical-align: top;\n",
       "    }\n",
       "\n",
       "    .dataframe thead th {\n",
       "        text-align: right;\n",
       "    }\n",
       "</style>\n",
       "<table border=\"1\" class=\"dataframe\">\n",
       "  <thead>\n",
       "    <tr style=\"text-align: right;\">\n",
       "      <th></th>\n",
       "      <th>Unnamed: 0</th>\n",
       "      <th>Name</th>\n",
       "      <th>Salary</th>\n",
       "    </tr>\n",
       "  </thead>\n",
       "  <tbody>\n",
       "    <tr>\n",
       "      <th>0</th>\n",
       "      <td>101</td>\n",
       "      <td>Aakash</td>\n",
       "      <td>8</td>\n",
       "    </tr>\n",
       "    <tr>\n",
       "      <th>1</th>\n",
       "      <td>121</td>\n",
       "      <td>Aashay</td>\n",
       "      <td>7</td>\n",
       "    </tr>\n",
       "    <tr>\n",
       "      <th>2</th>\n",
       "      <td>137</td>\n",
       "      <td>Pratham</td>\n",
       "      <td>8</td>\n",
       "    </tr>\n",
       "    <tr>\n",
       "      <th>3</th>\n",
       "      <td>146</td>\n",
       "      <td>Pritam</td>\n",
       "      <td>7</td>\n",
       "    </tr>\n",
       "    <tr>\n",
       "      <th>4</th>\n",
       "      <td>175</td>\n",
       "      <td>Nikhil</td>\n",
       "      <td>7</td>\n",
       "    </tr>\n",
       "  </tbody>\n",
       "</table>\n",
       "</div>"
      ],
      "text/plain": [
       "   Unnamed: 0     Name  Salary\n",
       "0         101   Aakash       8\n",
       "1         121   Aashay       7\n",
       "2         137  Pratham       8\n",
       "3         146   Pritam       7\n",
       "4         175   Nikhil       7"
      ]
     },
     "execution_count": 94,
     "metadata": {},
     "output_type": "execute_result"
    }
   ],
   "source": [
    "df = pd.read_csv('./MyRecord.csv')\n",
    "df['Salary'] = [8, 7, 8, 7, 7, 6, 10, 6, 8, 12]\n",
    "df.head()"
   ]
  },
  {
   "cell_type": "markdown",
   "id": "5971d559-95bf-44ce-8cec-482580fc7476",
   "metadata": {},
   "source": [
    "11. Refer the dataset \"Advertising.csv\" and perform following tasks.\n",
    "i) Read the dataset \"Advertising.csv\" in data frame.\n",
    "\n",
    "ii) Print first five records of dataset.\n",
    "\n",
    "iii) print last five records from dataset.\n",
    "\n",
    "iv) display the columns inside the dataset.\n",
    "\n",
    "v) display last three records from dataset.\n",
    "\n",
    "vi) display the information about the dataset and analyse the data.\n",
    "\n",
    "vii) display types of each columns.\n",
    " \n",
    "viii) check for null values in the dataset and display the sum of null values inside the column.\n",
    "\n",
    "ix) drop a column 'radio' from a dataset and display first ten records.\n",
    "\n",
    "x) increase the sales by 10% and add a new column \"updated_sales\" in dataframe.\n",
    "\n",
    "xi) display shape of data.\n",
    "\n",
    "xii) Find out maximum,minimum,mean,median,standard deviation value of each column.\n",
    " \n",
    "xiii) describe the dataset."
   ]
  },
  {
   "cell_type": "code",
   "execution_count": 116,
   "id": "09965ca7-7b0c-46b9-9b66-7e7cb8a8a412",
   "metadata": {},
   "outputs": [
    {
     "data": {
      "text/html": [
       "<div>\n",
       "<style scoped>\n",
       "    .dataframe tbody tr th:only-of-type {\n",
       "        vertical-align: middle;\n",
       "    }\n",
       "\n",
       "    .dataframe tbody tr th {\n",
       "        vertical-align: top;\n",
       "    }\n",
       "\n",
       "    .dataframe thead th {\n",
       "        text-align: right;\n",
       "    }\n",
       "</style>\n",
       "<table border=\"1\" class=\"dataframe\">\n",
       "  <thead>\n",
       "    <tr style=\"text-align: right;\">\n",
       "      <th></th>\n",
       "      <th>TV</th>\n",
       "      <th>radio</th>\n",
       "      <th>newspaper</th>\n",
       "      <th>sales</th>\n",
       "    </tr>\n",
       "  </thead>\n",
       "  <tbody>\n",
       "    <tr>\n",
       "      <th>0</th>\n",
       "      <td>230.1</td>\n",
       "      <td>37.8</td>\n",
       "      <td>69.2</td>\n",
       "      <td>22.1</td>\n",
       "    </tr>\n",
       "    <tr>\n",
       "      <th>1</th>\n",
       "      <td>44.5</td>\n",
       "      <td>39.3</td>\n",
       "      <td>45.1</td>\n",
       "      <td>10.4</td>\n",
       "    </tr>\n",
       "    <tr>\n",
       "      <th>2</th>\n",
       "      <td>17.2</td>\n",
       "      <td>45.9</td>\n",
       "      <td>69.3</td>\n",
       "      <td>9.3</td>\n",
       "    </tr>\n",
       "    <tr>\n",
       "      <th>3</th>\n",
       "      <td>151.5</td>\n",
       "      <td>41.3</td>\n",
       "      <td>58.5</td>\n",
       "      <td>18.5</td>\n",
       "    </tr>\n",
       "    <tr>\n",
       "      <th>4</th>\n",
       "      <td>180.8</td>\n",
       "      <td>10.8</td>\n",
       "      <td>58.4</td>\n",
       "      <td>12.9</td>\n",
       "    </tr>\n",
       "  </tbody>\n",
       "</table>\n",
       "</div>"
      ],
      "text/plain": [
       "      TV  radio  newspaper  sales\n",
       "0  230.1   37.8       69.2   22.1\n",
       "1   44.5   39.3       45.1   10.4\n",
       "2   17.2   45.9       69.3    9.3\n",
       "3  151.5   41.3       58.5   18.5\n",
       "4  180.8   10.8       58.4   12.9"
      ]
     },
     "execution_count": 116,
     "metadata": {},
     "output_type": "execute_result"
    }
   ],
   "source": [
    "df = pd.read_csv('./Advertising.csv')\n",
    "df.head()"
   ]
  },
  {
   "cell_type": "code",
   "execution_count": 117,
   "id": "61dfa8bf-dfae-46c6-8397-68d6ad0b2f71",
   "metadata": {},
   "outputs": [
    {
     "data": {
      "text/html": [
       "<div>\n",
       "<style scoped>\n",
       "    .dataframe tbody tr th:only-of-type {\n",
       "        vertical-align: middle;\n",
       "    }\n",
       "\n",
       "    .dataframe tbody tr th {\n",
       "        vertical-align: top;\n",
       "    }\n",
       "\n",
       "    .dataframe thead th {\n",
       "        text-align: right;\n",
       "    }\n",
       "</style>\n",
       "<table border=\"1\" class=\"dataframe\">\n",
       "  <thead>\n",
       "    <tr style=\"text-align: right;\">\n",
       "      <th></th>\n",
       "      <th>TV</th>\n",
       "      <th>radio</th>\n",
       "      <th>newspaper</th>\n",
       "      <th>sales</th>\n",
       "    </tr>\n",
       "  </thead>\n",
       "  <tbody>\n",
       "    <tr>\n",
       "      <th>195</th>\n",
       "      <td>38.2</td>\n",
       "      <td>3.7</td>\n",
       "      <td>13.8</td>\n",
       "      <td>7.6</td>\n",
       "    </tr>\n",
       "    <tr>\n",
       "      <th>196</th>\n",
       "      <td>94.2</td>\n",
       "      <td>4.9</td>\n",
       "      <td>8.1</td>\n",
       "      <td>9.7</td>\n",
       "    </tr>\n",
       "    <tr>\n",
       "      <th>197</th>\n",
       "      <td>177.0</td>\n",
       "      <td>9.3</td>\n",
       "      <td>6.4</td>\n",
       "      <td>12.8</td>\n",
       "    </tr>\n",
       "    <tr>\n",
       "      <th>198</th>\n",
       "      <td>283.6</td>\n",
       "      <td>42.0</td>\n",
       "      <td>66.2</td>\n",
       "      <td>25.5</td>\n",
       "    </tr>\n",
       "    <tr>\n",
       "      <th>199</th>\n",
       "      <td>232.1</td>\n",
       "      <td>8.6</td>\n",
       "      <td>8.7</td>\n",
       "      <td>13.4</td>\n",
       "    </tr>\n",
       "  </tbody>\n",
       "</table>\n",
       "</div>"
      ],
      "text/plain": [
       "        TV  radio  newspaper  sales\n",
       "195   38.2    3.7       13.8    7.6\n",
       "196   94.2    4.9        8.1    9.7\n",
       "197  177.0    9.3        6.4   12.8\n",
       "198  283.6   42.0       66.2   25.5\n",
       "199  232.1    8.6        8.7   13.4"
      ]
     },
     "execution_count": 117,
     "metadata": {},
     "output_type": "execute_result"
    }
   ],
   "source": [
    "df.tail()"
   ]
  },
  {
   "cell_type": "code",
   "execution_count": 118,
   "id": "049e66ea-2cdc-4d38-a3d3-dc38de2d7729",
   "metadata": {},
   "outputs": [
    {
     "data": {
      "text/plain": [
       "Index(['TV', 'radio', 'newspaper', 'sales'], dtype='object')"
      ]
     },
     "execution_count": 118,
     "metadata": {},
     "output_type": "execute_result"
    }
   ],
   "source": [
    "df.columns"
   ]
  },
  {
   "cell_type": "code",
   "execution_count": 119,
   "id": "43e258a4-6b86-4fda-8e7b-41fbe102e390",
   "metadata": {},
   "outputs": [
    {
     "data": {
      "text/html": [
       "<div>\n",
       "<style scoped>\n",
       "    .dataframe tbody tr th:only-of-type {\n",
       "        vertical-align: middle;\n",
       "    }\n",
       "\n",
       "    .dataframe tbody tr th {\n",
       "        vertical-align: top;\n",
       "    }\n",
       "\n",
       "    .dataframe thead th {\n",
       "        text-align: right;\n",
       "    }\n",
       "</style>\n",
       "<table border=\"1\" class=\"dataframe\">\n",
       "  <thead>\n",
       "    <tr style=\"text-align: right;\">\n",
       "      <th></th>\n",
       "      <th>TV</th>\n",
       "      <th>radio</th>\n",
       "      <th>newspaper</th>\n",
       "      <th>sales</th>\n",
       "    </tr>\n",
       "  </thead>\n",
       "  <tbody>\n",
       "    <tr>\n",
       "      <th>197</th>\n",
       "      <td>177.0</td>\n",
       "      <td>9.3</td>\n",
       "      <td>6.4</td>\n",
       "      <td>12.8</td>\n",
       "    </tr>\n",
       "    <tr>\n",
       "      <th>198</th>\n",
       "      <td>283.6</td>\n",
       "      <td>42.0</td>\n",
       "      <td>66.2</td>\n",
       "      <td>25.5</td>\n",
       "    </tr>\n",
       "    <tr>\n",
       "      <th>199</th>\n",
       "      <td>232.1</td>\n",
       "      <td>8.6</td>\n",
       "      <td>8.7</td>\n",
       "      <td>13.4</td>\n",
       "    </tr>\n",
       "  </tbody>\n",
       "</table>\n",
       "</div>"
      ],
      "text/plain": [
       "        TV  radio  newspaper  sales\n",
       "197  177.0    9.3        6.4   12.8\n",
       "198  283.6   42.0       66.2   25.5\n",
       "199  232.1    8.6        8.7   13.4"
      ]
     },
     "execution_count": 119,
     "metadata": {},
     "output_type": "execute_result"
    }
   ],
   "source": [
    "df.tail(3)"
   ]
  },
  {
   "cell_type": "code",
   "execution_count": 120,
   "id": "18b53a6f-b755-472c-91cd-bb6197bfd0e5",
   "metadata": {},
   "outputs": [
    {
     "name": "stdout",
     "output_type": "stream",
     "text": [
      "<class 'pandas.core.frame.DataFrame'>\n",
      "RangeIndex: 200 entries, 0 to 199\n",
      "Data columns (total 4 columns):\n",
      " #   Column     Non-Null Count  Dtype  \n",
      "---  ------     --------------  -----  \n",
      " 0   TV         200 non-null    float64\n",
      " 1   radio      200 non-null    float64\n",
      " 2   newspaper  200 non-null    float64\n",
      " 3   sales      200 non-null    float64\n",
      "dtypes: float64(4)\n",
      "memory usage: 6.4 KB\n"
     ]
    }
   ],
   "source": [
    "df.info()"
   ]
  },
  {
   "cell_type": "code",
   "execution_count": 121,
   "id": "518528ad-c413-4e6e-b153-2ed982683dd8",
   "metadata": {},
   "outputs": [
    {
     "data": {
      "text/plain": [
       "TV           0\n",
       "radio        0\n",
       "newspaper    0\n",
       "sales        0\n",
       "dtype: int64"
      ]
     },
     "execution_count": 121,
     "metadata": {},
     "output_type": "execute_result"
    }
   ],
   "source": [
    "df.isna().sum()"
   ]
  },
  {
   "cell_type": "code",
   "execution_count": 122,
   "id": "7817ebb6-cbab-409d-9eaf-48bbd345b38a",
   "metadata": {},
   "outputs": [
    {
     "data": {
      "text/html": [
       "<div>\n",
       "<style scoped>\n",
       "    .dataframe tbody tr th:only-of-type {\n",
       "        vertical-align: middle;\n",
       "    }\n",
       "\n",
       "    .dataframe tbody tr th {\n",
       "        vertical-align: top;\n",
       "    }\n",
       "\n",
       "    .dataframe thead th {\n",
       "        text-align: right;\n",
       "    }\n",
       "</style>\n",
       "<table border=\"1\" class=\"dataframe\">\n",
       "  <thead>\n",
       "    <tr style=\"text-align: right;\">\n",
       "      <th></th>\n",
       "      <th>TV</th>\n",
       "      <th>newspaper</th>\n",
       "      <th>sales</th>\n",
       "    </tr>\n",
       "  </thead>\n",
       "  <tbody>\n",
       "    <tr>\n",
       "      <th>0</th>\n",
       "      <td>230.1</td>\n",
       "      <td>69.2</td>\n",
       "      <td>22.1</td>\n",
       "    </tr>\n",
       "    <tr>\n",
       "      <th>1</th>\n",
       "      <td>44.5</td>\n",
       "      <td>45.1</td>\n",
       "      <td>10.4</td>\n",
       "    </tr>\n",
       "    <tr>\n",
       "      <th>2</th>\n",
       "      <td>17.2</td>\n",
       "      <td>69.3</td>\n",
       "      <td>9.3</td>\n",
       "    </tr>\n",
       "    <tr>\n",
       "      <th>3</th>\n",
       "      <td>151.5</td>\n",
       "      <td>58.5</td>\n",
       "      <td>18.5</td>\n",
       "    </tr>\n",
       "    <tr>\n",
       "      <th>4</th>\n",
       "      <td>180.8</td>\n",
       "      <td>58.4</td>\n",
       "      <td>12.9</td>\n",
       "    </tr>\n",
       "    <tr>\n",
       "      <th>5</th>\n",
       "      <td>8.7</td>\n",
       "      <td>75.0</td>\n",
       "      <td>7.2</td>\n",
       "    </tr>\n",
       "    <tr>\n",
       "      <th>6</th>\n",
       "      <td>57.5</td>\n",
       "      <td>23.5</td>\n",
       "      <td>11.8</td>\n",
       "    </tr>\n",
       "    <tr>\n",
       "      <th>7</th>\n",
       "      <td>120.2</td>\n",
       "      <td>11.6</td>\n",
       "      <td>13.2</td>\n",
       "    </tr>\n",
       "    <tr>\n",
       "      <th>8</th>\n",
       "      <td>8.6</td>\n",
       "      <td>1.0</td>\n",
       "      <td>4.8</td>\n",
       "    </tr>\n",
       "    <tr>\n",
       "      <th>9</th>\n",
       "      <td>199.8</td>\n",
       "      <td>21.2</td>\n",
       "      <td>10.6</td>\n",
       "    </tr>\n",
       "  </tbody>\n",
       "</table>\n",
       "</div>"
      ],
      "text/plain": [
       "      TV  newspaper  sales\n",
       "0  230.1       69.2   22.1\n",
       "1   44.5       45.1   10.4\n",
       "2   17.2       69.3    9.3\n",
       "3  151.5       58.5   18.5\n",
       "4  180.8       58.4   12.9\n",
       "5    8.7       75.0    7.2\n",
       "6   57.5       23.5   11.8\n",
       "7  120.2       11.6   13.2\n",
       "8    8.6        1.0    4.8\n",
       "9  199.8       21.2   10.6"
      ]
     },
     "execution_count": 122,
     "metadata": {},
     "output_type": "execute_result"
    }
   ],
   "source": [
    "df = df.drop(['radio'], axis=1) \n",
    "df.head(10)"
   ]
  },
  {
   "cell_type": "code",
   "execution_count": 123,
   "id": "5e091ef7-8662-4b09-a977-bf7c0113abe5",
   "metadata": {},
   "outputs": [
    {
     "name": "stdout",
     "output_type": "stream",
     "text": [
      "        TV  newspaper  sales  updated_sales\n",
      "0    230.1       69.2   22.1          24.31\n",
      "1     44.5       45.1   10.4          11.44\n",
      "2     17.2       69.3    9.3          10.23\n",
      "3    151.5       58.5   18.5          20.35\n",
      "4    180.8       58.4   12.9          14.19\n",
      "..     ...        ...    ...            ...\n",
      "195   38.2       13.8    7.6           8.36\n",
      "196   94.2        8.1    9.7          10.67\n",
      "197  177.0        6.4   12.8          14.08\n",
      "198  283.6       66.2   25.5          28.05\n",
      "199  232.1        8.7   13.4          14.74\n",
      "\n",
      "[200 rows x 4 columns]\n"
     ]
    }
   ],
   "source": [
    "df['updated_sales'] = (df['sales'] * 0.10) + df['sales']\n",
    "print(df)"
   ]
  },
  {
   "cell_type": "code",
   "execution_count": 124,
   "id": "d415e8ce-3516-456a-ba1a-b6817830bc69",
   "metadata": {},
   "outputs": [
    {
     "data": {
      "text/plain": [
       "(200, 4)"
      ]
     },
     "execution_count": 124,
     "metadata": {},
     "output_type": "execute_result"
    }
   ],
   "source": [
    "df.shape"
   ]
  },
  {
   "cell_type": "code",
   "execution_count": 125,
   "id": "ea00899a-e4ea-493b-9d02-fde96a26f6a9",
   "metadata": {},
   "outputs": [
    {
     "data": {
      "text/html": [
       "<div>\n",
       "<style scoped>\n",
       "    .dataframe tbody tr th:only-of-type {\n",
       "        vertical-align: middle;\n",
       "    }\n",
       "\n",
       "    .dataframe tbody tr th {\n",
       "        vertical-align: top;\n",
       "    }\n",
       "\n",
       "    .dataframe thead th {\n",
       "        text-align: right;\n",
       "    }\n",
       "</style>\n",
       "<table border=\"1\" class=\"dataframe\">\n",
       "  <thead>\n",
       "    <tr style=\"text-align: right;\">\n",
       "      <th></th>\n",
       "      <th>TV</th>\n",
       "      <th>newspaper</th>\n",
       "      <th>sales</th>\n",
       "      <th>updated_sales</th>\n",
       "    </tr>\n",
       "  </thead>\n",
       "  <tbody>\n",
       "    <tr>\n",
       "      <th>count</th>\n",
       "      <td>200.000000</td>\n",
       "      <td>200.000000</td>\n",
       "      <td>200.000000</td>\n",
       "      <td>200.000000</td>\n",
       "    </tr>\n",
       "    <tr>\n",
       "      <th>mean</th>\n",
       "      <td>147.042500</td>\n",
       "      <td>30.554000</td>\n",
       "      <td>14.022500</td>\n",
       "      <td>15.424750</td>\n",
       "    </tr>\n",
       "    <tr>\n",
       "      <th>std</th>\n",
       "      <td>85.854236</td>\n",
       "      <td>21.778621</td>\n",
       "      <td>5.217457</td>\n",
       "      <td>5.739202</td>\n",
       "    </tr>\n",
       "    <tr>\n",
       "      <th>min</th>\n",
       "      <td>0.700000</td>\n",
       "      <td>0.300000</td>\n",
       "      <td>1.600000</td>\n",
       "      <td>1.760000</td>\n",
       "    </tr>\n",
       "    <tr>\n",
       "      <th>25%</th>\n",
       "      <td>74.375000</td>\n",
       "      <td>12.750000</td>\n",
       "      <td>10.375000</td>\n",
       "      <td>11.412500</td>\n",
       "    </tr>\n",
       "    <tr>\n",
       "      <th>50%</th>\n",
       "      <td>149.750000</td>\n",
       "      <td>25.750000</td>\n",
       "      <td>12.900000</td>\n",
       "      <td>14.190000</td>\n",
       "    </tr>\n",
       "    <tr>\n",
       "      <th>75%</th>\n",
       "      <td>218.825000</td>\n",
       "      <td>45.100000</td>\n",
       "      <td>17.400000</td>\n",
       "      <td>19.140000</td>\n",
       "    </tr>\n",
       "    <tr>\n",
       "      <th>max</th>\n",
       "      <td>296.400000</td>\n",
       "      <td>114.000000</td>\n",
       "      <td>27.000000</td>\n",
       "      <td>29.700000</td>\n",
       "    </tr>\n",
       "  </tbody>\n",
       "</table>\n",
       "</div>"
      ],
      "text/plain": [
       "               TV   newspaper       sales  updated_sales\n",
       "count  200.000000  200.000000  200.000000     200.000000\n",
       "mean   147.042500   30.554000   14.022500      15.424750\n",
       "std     85.854236   21.778621    5.217457       5.739202\n",
       "min      0.700000    0.300000    1.600000       1.760000\n",
       "25%     74.375000   12.750000   10.375000      11.412500\n",
       "50%    149.750000   25.750000   12.900000      14.190000\n",
       "75%    218.825000   45.100000   17.400000      19.140000\n",
       "max    296.400000  114.000000   27.000000      29.700000"
      ]
     },
     "execution_count": 125,
     "metadata": {},
     "output_type": "execute_result"
    }
   ],
   "source": [
    "df.describe()"
   ]
  },
  {
   "cell_type": "markdown",
   "id": "0f5cd206-9974-4d9f-9a85-358994dd9bd4",
   "metadata": {},
   "source": [
    "12. Refer the dataset \"Salaries.csv\" and perform following tasks.\n",
    "i) Read the dataset in dataframe.\n",
    "\n",
    "ii) display first five records.\n",
    "\n",
    "iii) display first ten records.\n",
    "\n",
    "iv) display last five records.\n",
    "\n",
    "v) display last ten records.\n",
    "\n",
    "vi) display the columns inside the dataset.\n",
    "\n",
    "vii) display shape of data.\n",
    "\n",
    "viii) describe the dataset.\n",
    "\n",
    "ix) display the information about the dataset and analyse the data.\n",
    "\n",
    "x) display types of each columns.\n",
    "\n",
    "xi) Find out maximum,minimum,mean,median,standard deviation value of each column."
   ]
  },
  {
   "cell_type": "code",
   "execution_count": 105,
   "id": "05d74abb-27fb-44fd-8eb8-a42cb8d78e01",
   "metadata": {},
   "outputs": [
    {
     "data": {
      "text/html": [
       "<div>\n",
       "<style scoped>\n",
       "    .dataframe tbody tr th:only-of-type {\n",
       "        vertical-align: middle;\n",
       "    }\n",
       "\n",
       "    .dataframe tbody tr th {\n",
       "        vertical-align: top;\n",
       "    }\n",
       "\n",
       "    .dataframe thead th {\n",
       "        text-align: right;\n",
       "    }\n",
       "</style>\n",
       "<table border=\"1\" class=\"dataframe\">\n",
       "  <thead>\n",
       "    <tr style=\"text-align: right;\">\n",
       "      <th></th>\n",
       "      <th>YearsExperience</th>\n",
       "      <th>Salary</th>\n",
       "    </tr>\n",
       "  </thead>\n",
       "  <tbody>\n",
       "    <tr>\n",
       "      <th>0</th>\n",
       "      <td>1.1</td>\n",
       "      <td>39343</td>\n",
       "    </tr>\n",
       "    <tr>\n",
       "      <th>1</th>\n",
       "      <td>1.3</td>\n",
       "      <td>46205</td>\n",
       "    </tr>\n",
       "    <tr>\n",
       "      <th>2</th>\n",
       "      <td>1.5</td>\n",
       "      <td>37731</td>\n",
       "    </tr>\n",
       "    <tr>\n",
       "      <th>3</th>\n",
       "      <td>2.0</td>\n",
       "      <td>43525</td>\n",
       "    </tr>\n",
       "    <tr>\n",
       "      <th>4</th>\n",
       "      <td>2.2</td>\n",
       "      <td>39891</td>\n",
       "    </tr>\n",
       "  </tbody>\n",
       "</table>\n",
       "</div>"
      ],
      "text/plain": [
       "   YearsExperience  Salary\n",
       "0              1.1   39343\n",
       "1              1.3   46205\n",
       "2              1.5   37731\n",
       "3              2.0   43525\n",
       "4              2.2   39891"
      ]
     },
     "execution_count": 105,
     "metadata": {},
     "output_type": "execute_result"
    }
   ],
   "source": [
    "df = pd.read_csv('./Salary_Data.csv')\n",
    "df.head()"
   ]
  },
  {
   "cell_type": "code",
   "execution_count": 106,
   "id": "ad0a7770-0af7-4842-a1d6-b508ef6cd2c3",
   "metadata": {},
   "outputs": [
    {
     "data": {
      "text/html": [
       "<div>\n",
       "<style scoped>\n",
       "    .dataframe tbody tr th:only-of-type {\n",
       "        vertical-align: middle;\n",
       "    }\n",
       "\n",
       "    .dataframe tbody tr th {\n",
       "        vertical-align: top;\n",
       "    }\n",
       "\n",
       "    .dataframe thead th {\n",
       "        text-align: right;\n",
       "    }\n",
       "</style>\n",
       "<table border=\"1\" class=\"dataframe\">\n",
       "  <thead>\n",
       "    <tr style=\"text-align: right;\">\n",
       "      <th></th>\n",
       "      <th>YearsExperience</th>\n",
       "      <th>Salary</th>\n",
       "    </tr>\n",
       "  </thead>\n",
       "  <tbody>\n",
       "    <tr>\n",
       "      <th>0</th>\n",
       "      <td>1.1</td>\n",
       "      <td>39343</td>\n",
       "    </tr>\n",
       "    <tr>\n",
       "      <th>1</th>\n",
       "      <td>1.3</td>\n",
       "      <td>46205</td>\n",
       "    </tr>\n",
       "    <tr>\n",
       "      <th>2</th>\n",
       "      <td>1.5</td>\n",
       "      <td>37731</td>\n",
       "    </tr>\n",
       "    <tr>\n",
       "      <th>3</th>\n",
       "      <td>2.0</td>\n",
       "      <td>43525</td>\n",
       "    </tr>\n",
       "    <tr>\n",
       "      <th>4</th>\n",
       "      <td>2.2</td>\n",
       "      <td>39891</td>\n",
       "    </tr>\n",
       "    <tr>\n",
       "      <th>5</th>\n",
       "      <td>2.9</td>\n",
       "      <td>56642</td>\n",
       "    </tr>\n",
       "    <tr>\n",
       "      <th>6</th>\n",
       "      <td>3.0</td>\n",
       "      <td>60150</td>\n",
       "    </tr>\n",
       "    <tr>\n",
       "      <th>7</th>\n",
       "      <td>3.2</td>\n",
       "      <td>54445</td>\n",
       "    </tr>\n",
       "    <tr>\n",
       "      <th>8</th>\n",
       "      <td>3.2</td>\n",
       "      <td>64445</td>\n",
       "    </tr>\n",
       "    <tr>\n",
       "      <th>9</th>\n",
       "      <td>3.7</td>\n",
       "      <td>57189</td>\n",
       "    </tr>\n",
       "  </tbody>\n",
       "</table>\n",
       "</div>"
      ],
      "text/plain": [
       "   YearsExperience  Salary\n",
       "0              1.1   39343\n",
       "1              1.3   46205\n",
       "2              1.5   37731\n",
       "3              2.0   43525\n",
       "4              2.2   39891\n",
       "5              2.9   56642\n",
       "6              3.0   60150\n",
       "7              3.2   54445\n",
       "8              3.2   64445\n",
       "9              3.7   57189"
      ]
     },
     "execution_count": 106,
     "metadata": {},
     "output_type": "execute_result"
    }
   ],
   "source": [
    "df.head(10)"
   ]
  },
  {
   "cell_type": "code",
   "execution_count": 107,
   "id": "62801f68-4251-4319-8bdc-e33a0e2bc233",
   "metadata": {},
   "outputs": [
    {
     "data": {
      "text/html": [
       "<div>\n",
       "<style scoped>\n",
       "    .dataframe tbody tr th:only-of-type {\n",
       "        vertical-align: middle;\n",
       "    }\n",
       "\n",
       "    .dataframe tbody tr th {\n",
       "        vertical-align: top;\n",
       "    }\n",
       "\n",
       "    .dataframe thead th {\n",
       "        text-align: right;\n",
       "    }\n",
       "</style>\n",
       "<table border=\"1\" class=\"dataframe\">\n",
       "  <thead>\n",
       "    <tr style=\"text-align: right;\">\n",
       "      <th></th>\n",
       "      <th>YearsExperience</th>\n",
       "      <th>Salary</th>\n",
       "    </tr>\n",
       "  </thead>\n",
       "  <tbody>\n",
       "    <tr>\n",
       "      <th>28</th>\n",
       "      <td>10.3</td>\n",
       "      <td>122391</td>\n",
       "    </tr>\n",
       "    <tr>\n",
       "      <th>29</th>\n",
       "      <td>10.5</td>\n",
       "      <td>121872</td>\n",
       "    </tr>\n",
       "    <tr>\n",
       "      <th>30</th>\n",
       "      <td>11.0</td>\n",
       "      <td>140000</td>\n",
       "    </tr>\n",
       "    <tr>\n",
       "      <th>31</th>\n",
       "      <td>12.0</td>\n",
       "      <td>155000</td>\n",
       "    </tr>\n",
       "    <tr>\n",
       "      <th>32</th>\n",
       "      <td>13.0</td>\n",
       "      <td>156000</td>\n",
       "    </tr>\n",
       "  </tbody>\n",
       "</table>\n",
       "</div>"
      ],
      "text/plain": [
       "    YearsExperience  Salary\n",
       "28             10.3  122391\n",
       "29             10.5  121872\n",
       "30             11.0  140000\n",
       "31             12.0  155000\n",
       "32             13.0  156000"
      ]
     },
     "execution_count": 107,
     "metadata": {},
     "output_type": "execute_result"
    }
   ],
   "source": [
    "df.tail()"
   ]
  },
  {
   "cell_type": "code",
   "execution_count": 108,
   "id": "3f7b1767-7244-4737-a6bf-ef6f06249d9f",
   "metadata": {},
   "outputs": [
    {
     "data": {
      "text/html": [
       "<div>\n",
       "<style scoped>\n",
       "    .dataframe tbody tr th:only-of-type {\n",
       "        vertical-align: middle;\n",
       "    }\n",
       "\n",
       "    .dataframe tbody tr th {\n",
       "        vertical-align: top;\n",
       "    }\n",
       "\n",
       "    .dataframe thead th {\n",
       "        text-align: right;\n",
       "    }\n",
       "</style>\n",
       "<table border=\"1\" class=\"dataframe\">\n",
       "  <thead>\n",
       "    <tr style=\"text-align: right;\">\n",
       "      <th></th>\n",
       "      <th>YearsExperience</th>\n",
       "      <th>Salary</th>\n",
       "    </tr>\n",
       "  </thead>\n",
       "  <tbody>\n",
       "    <tr>\n",
       "      <th>23</th>\n",
       "      <td>8.2</td>\n",
       "      <td>113812</td>\n",
       "    </tr>\n",
       "    <tr>\n",
       "      <th>24</th>\n",
       "      <td>8.7</td>\n",
       "      <td>109431</td>\n",
       "    </tr>\n",
       "    <tr>\n",
       "      <th>25</th>\n",
       "      <td>9.0</td>\n",
       "      <td>105582</td>\n",
       "    </tr>\n",
       "    <tr>\n",
       "      <th>26</th>\n",
       "      <td>9.5</td>\n",
       "      <td>116969</td>\n",
       "    </tr>\n",
       "    <tr>\n",
       "      <th>27</th>\n",
       "      <td>9.6</td>\n",
       "      <td>112635</td>\n",
       "    </tr>\n",
       "    <tr>\n",
       "      <th>28</th>\n",
       "      <td>10.3</td>\n",
       "      <td>122391</td>\n",
       "    </tr>\n",
       "    <tr>\n",
       "      <th>29</th>\n",
       "      <td>10.5</td>\n",
       "      <td>121872</td>\n",
       "    </tr>\n",
       "    <tr>\n",
       "      <th>30</th>\n",
       "      <td>11.0</td>\n",
       "      <td>140000</td>\n",
       "    </tr>\n",
       "    <tr>\n",
       "      <th>31</th>\n",
       "      <td>12.0</td>\n",
       "      <td>155000</td>\n",
       "    </tr>\n",
       "    <tr>\n",
       "      <th>32</th>\n",
       "      <td>13.0</td>\n",
       "      <td>156000</td>\n",
       "    </tr>\n",
       "  </tbody>\n",
       "</table>\n",
       "</div>"
      ],
      "text/plain": [
       "    YearsExperience  Salary\n",
       "23              8.2  113812\n",
       "24              8.7  109431\n",
       "25              9.0  105582\n",
       "26              9.5  116969\n",
       "27              9.6  112635\n",
       "28             10.3  122391\n",
       "29             10.5  121872\n",
       "30             11.0  140000\n",
       "31             12.0  155000\n",
       "32             13.0  156000"
      ]
     },
     "execution_count": 108,
     "metadata": {},
     "output_type": "execute_result"
    }
   ],
   "source": [
    "df.tail(10)"
   ]
  },
  {
   "cell_type": "code",
   "execution_count": 109,
   "id": "debc15f4-d673-4ce1-bd99-cbfa2d7e5177",
   "metadata": {},
   "outputs": [
    {
     "data": {
      "text/plain": [
       "Index(['YearsExperience', 'Salary'], dtype='object')"
      ]
     },
     "execution_count": 109,
     "metadata": {},
     "output_type": "execute_result"
    }
   ],
   "source": [
    "df.columns"
   ]
  },
  {
   "cell_type": "code",
   "execution_count": 110,
   "id": "708ccf8c-7147-48a7-a571-a9751c0268ae",
   "metadata": {},
   "outputs": [
    {
     "data": {
      "text/plain": [
       "(33, 2)"
      ]
     },
     "execution_count": 110,
     "metadata": {},
     "output_type": "execute_result"
    }
   ],
   "source": [
    "df.shape"
   ]
  },
  {
   "cell_type": "code",
   "execution_count": 111,
   "id": "f4299064-8be7-486d-a983-6dd4f781a14b",
   "metadata": {},
   "outputs": [
    {
     "data": {
      "text/html": [
       "<div>\n",
       "<style scoped>\n",
       "    .dataframe tbody tr th:only-of-type {\n",
       "        vertical-align: middle;\n",
       "    }\n",
       "\n",
       "    .dataframe tbody tr th {\n",
       "        vertical-align: top;\n",
       "    }\n",
       "\n",
       "    .dataframe thead th {\n",
       "        text-align: right;\n",
       "    }\n",
       "</style>\n",
       "<table border=\"1\" class=\"dataframe\">\n",
       "  <thead>\n",
       "    <tr style=\"text-align: right;\">\n",
       "      <th></th>\n",
       "      <th>YearsExperience</th>\n",
       "      <th>Salary</th>\n",
       "    </tr>\n",
       "  </thead>\n",
       "  <tbody>\n",
       "    <tr>\n",
       "      <th>count</th>\n",
       "      <td>33.000000</td>\n",
       "      <td>33.000000</td>\n",
       "    </tr>\n",
       "    <tr>\n",
       "      <th>mean</th>\n",
       "      <td>5.921212</td>\n",
       "      <td>82760.303030</td>\n",
       "    </tr>\n",
       "    <tr>\n",
       "      <th>std</th>\n",
       "      <td>3.342413</td>\n",
       "      <td>34014.620992</td>\n",
       "    </tr>\n",
       "    <tr>\n",
       "      <th>min</th>\n",
       "      <td>1.100000</td>\n",
       "      <td>37731.000000</td>\n",
       "    </tr>\n",
       "    <tr>\n",
       "      <th>25%</th>\n",
       "      <td>3.200000</td>\n",
       "      <td>56957.000000</td>\n",
       "    </tr>\n",
       "    <tr>\n",
       "      <th>50%</th>\n",
       "      <td>5.100000</td>\n",
       "      <td>67938.000000</td>\n",
       "    </tr>\n",
       "    <tr>\n",
       "      <th>75%</th>\n",
       "      <td>8.700000</td>\n",
       "      <td>109431.000000</td>\n",
       "    </tr>\n",
       "    <tr>\n",
       "      <th>max</th>\n",
       "      <td>13.000000</td>\n",
       "      <td>156000.000000</td>\n",
       "    </tr>\n",
       "  </tbody>\n",
       "</table>\n",
       "</div>"
      ],
      "text/plain": [
       "       YearsExperience         Salary\n",
       "count        33.000000      33.000000\n",
       "mean          5.921212   82760.303030\n",
       "std           3.342413   34014.620992\n",
       "min           1.100000   37731.000000\n",
       "25%           3.200000   56957.000000\n",
       "50%           5.100000   67938.000000\n",
       "75%           8.700000  109431.000000\n",
       "max          13.000000  156000.000000"
      ]
     },
     "execution_count": 111,
     "metadata": {},
     "output_type": "execute_result"
    }
   ],
   "source": [
    "df.describe()"
   ]
  },
  {
   "cell_type": "code",
   "execution_count": 112,
   "id": "8789d207-dfdf-498d-9787-c038de5f8729",
   "metadata": {},
   "outputs": [
    {
     "name": "stdout",
     "output_type": "stream",
     "text": [
      "<class 'pandas.core.frame.DataFrame'>\n",
      "RangeIndex: 33 entries, 0 to 32\n",
      "Data columns (total 2 columns):\n",
      " #   Column           Non-Null Count  Dtype  \n",
      "---  ------           --------------  -----  \n",
      " 0   YearsExperience  33 non-null     float64\n",
      " 1   Salary           33 non-null     int64  \n",
      "dtypes: float64(1), int64(1)\n",
      "memory usage: 656.0 bytes\n"
     ]
    }
   ],
   "source": [
    "df.info()"
   ]
  },
  {
   "cell_type": "code",
   "execution_count": 113,
   "id": "da7da395-9098-490a-8550-2475e526936a",
   "metadata": {},
   "outputs": [
    {
     "data": {
      "text/plain": [
       "YearsExperience    0\n",
       "Salary             0\n",
       "dtype: int64"
      ]
     },
     "execution_count": 113,
     "metadata": {},
     "output_type": "execute_result"
    }
   ],
   "source": [
    "df.isna().sum()"
   ]
  },
  {
   "cell_type": "code",
   "execution_count": null,
   "id": "9f2fbd29-66ad-4b76-aa36-12d3662ee43b",
   "metadata": {},
   "outputs": [],
   "source": []
  }
 ],
 "metadata": {
  "kernelspec": {
   "display_name": "Python 3 (ipykernel)",
   "language": "python",
   "name": "python3"
  },
  "language_info": {
   "codemirror_mode": {
    "name": "ipython",
    "version": 3
   },
   "file_extension": ".py",
   "mimetype": "text/x-python",
   "name": "python",
   "nbconvert_exporter": "python",
   "pygments_lexer": "ipython3",
   "version": "3.10.12"
  }
 },
 "nbformat": 4,
 "nbformat_minor": 5
}
