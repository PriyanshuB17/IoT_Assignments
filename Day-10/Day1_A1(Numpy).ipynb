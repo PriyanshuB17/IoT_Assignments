{
 "cells": [
  {
   "cell_type": "markdown",
   "id": "eb010128-fc74-472e-9f51-7294fe7872f9",
   "metadata": {},
   "source": [
    "# Numpy Assignment"
   ]
  },
  {
   "cell_type": "markdown",
   "id": "c40a598e-0396-430d-90bc-b67294bab816",
   "metadata": {},
   "source": [
    "1. Write a NumPy program to create an array with the values 1, 7, 13, 105    and determine the size of the memory occupied by the array.\n"
   ]
  },
  {
   "cell_type": "code",
   "execution_count": 2,
   "id": "f3124ac7-f4e6-4432-b0bf-2c75369e8f1e",
   "metadata": {},
   "outputs": [],
   "source": [
    "import numpy as np"
   ]
  },
  {
   "cell_type": "code",
   "execution_count": 3,
   "id": "bf5c69cd-c487-41da-9d4a-42cb55506805",
   "metadata": {},
   "outputs": [
    {
     "name": "stdout",
     "output_type": "stream",
     "text": [
      "[  1   7  13 105]\n",
      "Type = <class 'numpy.ndarray'>\n",
      "Size = 4\n"
     ]
    }
   ],
   "source": [
    "arr1 = np.array([1, 7, 13, 105])\n",
    "print(arr1)\n",
    "print(f\"Type = {type(arr1)}\")\n",
    "print(f\"Size = {arr1.size}\")"
   ]
  },
  {
   "cell_type": "markdown",
   "id": "37cf3d03-25bc-4305-a337-73c6f7163ff7",
   "metadata": {},
   "source": [
    "2. Write a NumPy program to create an element-wise comparison (greater,    greater_equal, less and less_equal) of two given arrays."
   ]
  },
  {
   "cell_type": "code",
   "execution_count": 4,
   "id": "9e0d136c-8308-4c84-bd68-72dfe6f320ee",
   "metadata": {},
   "outputs": [
    {
     "name": "stdout",
     "output_type": "stream",
     "text": [
      "Element at index 3 of arr1 = 40 is greater than arr2 = 22\n"
     ]
    }
   ],
   "source": [
    "def compare(arr1, arr2, i):\n",
    "    # arr1 = np.array([11, 22, 33, 44, 55])\n",
    "    # arr2 = np.array([50, 40, 33, 22, 11])\n",
    "\n",
    "    if(arr1[i] == arr2[i]):\n",
    "        print(f\"Element at index {i} of arr1 = {arr1[i]} and arr2 = {arr2[i]} are equal\")\n",
    "    elif(arr1[i] > arr2[i]):\n",
    "        print(f\"Element at index {i} of arr1 = {arr1[i]} is greater than arr2 = {arr2[i]}\")\n",
    "    else:\n",
    "        print(f\"Element at index {i} of arr1 = {arr1[i]} is less than arr2 = {arr2[i]}\")\n",
    "\n",
    "    # for i in (0, arr1.size):\n",
    "    #     if(arr1[i] == arr2[i]):\n",
    "    #         print(f\"Element at index {i} of arr1 = {arr1[i]} and arr2 = {arr2[i]} are equal\")\n",
    "    #     elif(arr1[i] > arr2[i]):\n",
    "    #         print(f\"Element at index {i} of arr1 = {arr1[i]} is greater than arr2 = {arr2[i]}\")\n",
    "    #     else:\n",
    "    #        print(f\"Element at index {i} of arr1 = {arr1[i]} is less than arr2 = {arr2[i]}\")\n",
    "\n",
    "        i = i + 1\n",
    "\n",
    "arr1 = np.array([10, 20, 33, 40, 50])\n",
    "arr2 = np.array([55, 44, 33, 22, 11])\n",
    "\n",
    "compare(arr1, arr2, 3)\n"
   ]
  },
  {
   "cell_type": "markdown",
   "id": "64bc99e3-6493-4822-8046-5df0012fd23e",
   "metadata": {},
   "source": [
    "3.  Write a NumPy program to create an array of 10 zeros, 10 ones, 10    fives, 10 tens, 10 twentys and 10 fiftys."
   ]
  },
  {
   "cell_type": "code",
   "execution_count": 5,
   "id": "eb175108-27bf-4a9f-afd3-17face37da82",
   "metadata": {},
   "outputs": [
    {
     "name": "stdout",
     "output_type": "stream",
     "text": [
      "[0. 0. 0. 0. 0. 0. 0. 0. 0. 0.]\n",
      "[1. 1. 1. 1. 1. 1. 1. 1. 1. 1.]\n",
      "[5. 5. 5. 5. 5. 5. 5. 5. 5. 5.]\n",
      "[10. 10. 10. 10. 10. 10. 10. 10. 10. 10.]\n",
      "[20. 20. 20. 20. 20. 20. 20. 20. 20. 20.]\n",
      "[50. 50. 50. 50. 50. 50. 50. 50. 50. 50.]\n"
     ]
    }
   ],
   "source": [
    "arr = np.zeros(10)\n",
    "print(arr)\n",
    "arr = np.ones(10)\n",
    "print(arr)\n",
    "arr = arr * 5\n",
    "print(arr)\n",
    "arr = arr * 2\n",
    "print(arr)\n",
    "arr = arr * 2\n",
    "print(arr)\n",
    "arr = arr * 5/2\n",
    "print(arr)"
   ]
  },
  {
   "cell_type": "markdown",
   "id": "e29cf7c3-7a1e-4c69-ab86-0059fcc47047",
   "metadata": {},
   "source": [
    "4. Write a NumPy program to create an array of integers from 30 to 70."
   ]
  },
  {
   "cell_type": "code",
   "execution_count": 6,
   "id": "abe598d1-fcf3-4a73-b92f-788fd022fa65",
   "metadata": {},
   "outputs": [
    {
     "name": "stdout",
     "output_type": "stream",
     "text": [
      "[30 31 32 33 34 35 36 37 38 39 40 41 42 43 44 45 46 47 48 49 50 51 52 53\n",
      " 54 55 56 57 58 59 60 61 62 63 64 65 66 67 68 69 70]\n"
     ]
    }
   ],
   "source": [
    "arr = np.arange(30, 71)\n",
    "print(arr)"
   ]
  },
  {
   "cell_type": "markdown",
   "id": "3214a2f5-7c22-4c73-a3c2-fab24b76682f",
   "metadata": {},
   "source": [
    "5. Write a NumPy program to create an array of integers from 50 to 95."
   ]
  },
  {
   "cell_type": "code",
   "execution_count": 7,
   "id": "fbb131a6-28e6-48a4-bb49-ece8c116b357",
   "metadata": {},
   "outputs": [
    {
     "name": "stdout",
     "output_type": "stream",
     "text": [
      "[50 51 52 53 54 55 56 57 58 59 60 61 62 63 64 65 66 67 68 69 70 71 72 73\n",
      " 74 75 76 77 78 79 80 81 82 83 84 85 86 87 88 89 90 91 92 93 94 95]\n"
     ]
    }
   ],
   "source": [
    "arr = np.arange(50, 96)\n",
    "print(arr)"
   ]
  },
  {
   "cell_type": "markdown",
   "id": "38790b65-12e4-40bb-b956-4189f6462b0c",
   "metadata": {},
   "source": [
    "6. Write a NumPy program to create an array of all even integers from 20 to 80."
   ]
  },
  {
   "cell_type": "code",
   "execution_count": 8,
   "id": "cc0272ef-e6fd-4625-94fe-d30a588dd89f",
   "metadata": {},
   "outputs": [
    {
     "name": "stdout",
     "output_type": "stream",
     "text": [
      "[20 22 24 26 28 30 32 34 36 38 40 42 44 46 48 50 52 54 56 58 60 62 64 66\n",
      " 68 70 72 74 76 78 80]\n"
     ]
    }
   ],
   "source": [
    "arr = np.arange(20, 81, 2)\n",
    "print(arr)"
   ]
  },
  {
   "cell_type": "markdown",
   "id": "3420d88b-21f3-4056-9b76-1c564d739747",
   "metadata": {},
   "source": [
    "7. Write a NumPy program to create an array of all odd integers from 20 to 80."
   ]
  },
  {
   "cell_type": "code",
   "execution_count": 9,
   "id": "34b8e681-b65e-40c0-b87a-1117aa2da352",
   "metadata": {},
   "outputs": [
    {
     "name": "stdout",
     "output_type": "stream",
     "text": [
      "[21 23 25 27 29 31 33 35 37 39 41 43 45 47 49 51 53 55 57 59 61 63 65 67\n",
      " 69 71 73 75 77 79]\n"
     ]
    }
   ],
   "source": [
    "arr = np.arange(21, 80, 2)\n",
    "print(arr)"
   ]
  },
  {
   "cell_type": "markdown",
   "id": "eb2fd053-f92e-46fc-a531-bb063f1442fd",
   "metadata": {},
   "source": [
    "8. Write a NumPy program to generate an array of 15 random numbers from 10    to 40.\n"
   ]
  },
  {
   "cell_type": "code",
   "execution_count": 10,
   "id": "4737d87e-90d5-40dc-aaea-32f9ae05ec73",
   "metadata": {},
   "outputs": [
    {
     "name": "stdout",
     "output_type": "stream",
     "text": [
      "[29 29 20 22 26 33 32 35 23 28 39 18 39 10 13]\n"
     ]
    }
   ],
   "source": [
    "arr = np.random.randint(10, 40, 15)\n",
    "print(arr)"
   ]
  },
  {
   "cell_type": "markdown",
   "id": "94c91a3a-a492-4d6a-8e70-1f938110b363",
   "metadata": {},
   "source": [
    "9. Write a NumPy program to generate an array of 10 random numbers from 30    to 50."
   ]
  },
  {
   "cell_type": "code",
   "execution_count": 11,
   "id": "bab359e3-ab49-4ceb-971e-8b3edd9548dc",
   "metadata": {},
   "outputs": [
    {
     "name": "stdout",
     "output_type": "stream",
     "text": [
      "[30 45 37 34 35 38 46 47 47 34]\n"
     ]
    }
   ],
   "source": [
    "arr = np.random.randint(30, 50, 10)\n",
    "print(arr)"
   ]
  },
  {
   "cell_type": "markdown",
   "id": "db21c0d1-5139-439d-a27e-aadea893163c",
   "metadata": {},
   "source": [
    "10. Write a NumPy program to generate an array of 20 random numbers from 50    to 90."
   ]
  },
  {
   "cell_type": "code",
   "execution_count": 12,
   "id": "330874dc-bfb3-467c-bccb-94d5ec862421",
   "metadata": {},
   "outputs": [
    {
     "name": "stdout",
     "output_type": "stream",
     "text": [
      "[72 53 53 77 73 77 68 53 55 59 75 68 63 73 73 82 70 62 61 52]\n"
     ]
    }
   ],
   "source": [
    "arr = np.random.randint(50, 90, 20)\n",
    "print(arr)"
   ]
  },
  {
   "cell_type": "markdown",
   "id": "583946b9-5b2e-45cc-9fef-f15c8be3703e",
   "metadata": {},
   "source": [
    "11. Create any two arrays & perform various mathematical operations.\n",
    "    i.e. Addition, Substraction, Multiplication, Divide.\n"
   ]
  },
  {
   "cell_type": "code",
   "execution_count": 13,
   "id": "19e5bafc-2dda-40bd-98f2-a1fd8398c88e",
   "metadata": {},
   "outputs": [
    {
     "name": "stdout",
     "output_type": "stream",
     "text": [
      "[105  84  63  42  21]\n",
      "[5 4 3 2 1]\n",
      "[2750 1760  990  440  110]\n",
      "[1.1 1.1 1.1 1.1 1.1]\n"
     ]
    }
   ],
   "source": [
    "arr1 = np.array([55, 44, 33, 22, 11])\n",
    "arr2 = np.array([50, 40, 30, 20, 10])\n",
    "print(arr1+arr2)\n",
    "print(arr1-arr2)\n",
    "print(arr1*arr2)\n",
    "print(arr1/arr2)"
   ]
  },
  {
   "cell_type": "markdown",
   "id": "04316924-9544-4243-9ce7-8c5943692010",
   "metadata": {},
   "source": [
    "12. Write a NumPy program to create a 3x4 matrix filled with values from 10     to 21."
   ]
  },
  {
   "cell_type": "code",
   "execution_count": 14,
   "id": "80481249-735d-46ae-a5e6-ac0c7740e3cc",
   "metadata": {},
   "outputs": [
    {
     "name": "stdout",
     "output_type": "stream",
     "text": [
      "[[17 14 14 20]\n",
      " [13 16 15 15]\n",
      " [14 15 10 14]]\n"
     ]
    }
   ],
   "source": [
    "arr = np.random.randint(10, 21, 12)\n",
    "print(arr.reshape(3, 4))"
   ]
  },
  {
   "cell_type": "markdown",
   "id": "0dd69f5d-9c53-4a3c-b724-86c69852e6c0",
   "metadata": {},
   "source": [
    "13. Write a NumPy program to create a 3x3 identity matrix, i.e. the diagonal     elements are 1, the rest are 0."
   ]
  },
  {
   "cell_type": "code",
   "execution_count": 15,
   "id": "9c1bf162-5c04-4570-86e8-411ec55665a3",
   "metadata": {},
   "outputs": [
    {
     "name": "stdout",
     "output_type": "stream",
     "text": [
      "[[1. 0. 0.]\n",
      " [0. 1. 0.]\n",
      " [0. 0. 1.]]\n"
     ]
    }
   ],
   "source": [
    "arr = np.zeros(9)\n",
    "arr[0] = 1\n",
    "arr[4] = 1\n",
    "arr[8] = 1\n",
    "print(arr.reshape(3,3))"
   ]
  },
  {
   "cell_type": "markdown",
   "id": "4af12a54-ed22-4614-9f72-7ec54ef3f67b",
   "metadata": {},
   "source": [
    "14. Write a NumPy program to find the number of rows and columns in a given     matrix. \n"
   ]
  },
  {
   "cell_type": "code",
   "execution_count": 21,
   "id": "658286d8-4926-4596-b9d1-f2b89c3865a3",
   "metadata": {},
   "outputs": [
    {
     "name": "stdout",
     "output_type": "stream",
     "text": [
      "(3, 3)\n"
     ]
    }
   ],
   "source": [
    "arr = np.array([[11, 22, 33], [10, 20, 30], [1, 2, 3]])\n",
    "print(arr.shape)"
   ]
  },
  {
   "cell_type": "markdown",
   "id": "e410fc5b-df5e-46c4-be73-fcb4512158f9",
   "metadata": {},
   "source": [
    "15. Write a NumPy program to create a 5x5 zero matrix with elements on the     main diagonal equal to 1, 2, 3, 4, 5."
   ]
  },
  {
   "cell_type": "code",
   "execution_count": 17,
   "id": "0cb536d4-f46d-4679-9e7a-f92e3eb4663e",
   "metadata": {},
   "outputs": [
    {
     "name": "stdout",
     "output_type": "stream",
     "text": [
      "[[1. 0. 0. 0. 0.]\n",
      " [0. 2. 0. 0. 0.]\n",
      " [0. 0. 3. 0. 0.]\n",
      " [0. 0. 0. 4. 0.]\n",
      " [0. 0. 0. 0. 5.]]\n"
     ]
    }
   ],
   "source": [
    "arr = np.zeros(25)\n",
    "arr = arr.reshape(5, 5)\n",
    "arr[0, 0] = 1\n",
    "arr[1,1] = 2\n",
    "arr[2, 2] = 3\n",
    "arr[3, 3] = 4\n",
    "arr[4, 4] = 5\n",
    "print(arr)"
   ]
  },
  {
   "cell_type": "markdown",
   "id": "d5922084-a15a-4d75-9417-3173222a130b",
   "metadata": {},
   "source": [
    "16. Write a NumPy program to create a 3x3x3 array filled with arbitrary     values."
   ]
  },
  {
   "cell_type": "code",
   "execution_count": 18,
   "id": "ce2662ba-d3f0-412a-a12d-6901a77d9a68",
   "metadata": {},
   "outputs": [
    {
     "name": "stdout",
     "output_type": "stream",
     "text": [
      "[[[0.76819743 0.21225233 0.85183284]\n",
      "  [0.02231622 0.37572518 0.91674354]\n",
      "  [0.37219613 0.59173992 0.39124461]]\n",
      "\n",
      " [[0.55358542 0.18021464 0.06038512]\n",
      "  [0.61555937 0.80689002 0.45912681]\n",
      "  [0.57315024 0.97332582 0.78296628]]\n",
      "\n",
      " [[0.41697918 0.94679586 0.72336028]\n",
      "  [0.74958933 0.12302383 0.55773564]\n",
      "  [0.33631457 0.2535275  0.94639874]]]\n"
     ]
    }
   ],
   "source": [
    "arr = np.random.random(27)\n",
    "arr = arr.reshape(3, 3, 3)\n",
    "print(arr)"
   ]
  },
  {
   "cell_type": "markdown",
   "id": "e209af4b-f696-4a84-a8a6-b7d4a2ad35c0",
   "metadata": {},
   "source": [
    "17. Write a NumPy program to create a 2x3x4 array filled with arbitrary     values."
   ]
  },
  {
   "cell_type": "code",
   "execution_count": 19,
   "id": "7eb8f8e7-7ec6-41f3-a24a-c7b07f9a2f6c",
   "metadata": {},
   "outputs": [
    {
     "name": "stdout",
     "output_type": "stream",
     "text": [
      "[[[0.76799406 0.96833403 0.75240782]\n",
      "  [0.44234625 0.14890972 0.35411325]]\n",
      "\n",
      " [[0.52679532 0.08594719 0.47855553]\n",
      "  [0.72050227 0.65758482 0.52361561]]\n",
      "\n",
      " [[0.67118591 0.56852405 0.40658887]\n",
      "  [0.07099599 0.48599064 0.31610737]]\n",
      "\n",
      " [[0.17985381 0.16788738 0.08802104]\n",
      "  [0.03120193 0.28057093 0.14226375]]]\n"
     ]
    }
   ],
   "source": [
    "arr = np.random.random(24)\n",
    "arr = arr.reshape(4, 2, 3)\n",
    "print(arr)"
   ]
  },
  {
   "cell_type": "markdown",
   "id": "e4e67d88-1622-4c2a-8bf4-58d145a43fae",
   "metadata": {},
   "source": [
    "18. Write a NumPy program to convert a list of numeric values into a one-    dimensional NumPy array."
   ]
  },
  {
   "cell_type": "code",
   "execution_count": 23,
   "id": "31c94630-ea91-453a-96bc-888ffb87c3b2",
   "metadata": {},
   "outputs": [
    {
     "name": "stdout",
     "output_type": "stream",
     "text": [
      "[10 20 30 40 50]\n"
     ]
    }
   ],
   "source": [
    "l1 = [10, 20, 30 ,40, 50]\n",
    "arr = np.array(l1)\n",
    "print(arr)"
   ]
  },
  {
   "cell_type": "markdown",
   "id": "b9bf0a1c-27d7-4980-8b5d-a27ceda60b80",
   "metadata": {},
   "source": [
    "19. Write a NumPy program to create a 3x3 matrix with values ranging from 2     to 10."
   ]
  },
  {
   "cell_type": "code",
   "execution_count": 25,
   "id": "e6d9aa34-f27f-459f-872b-a5940c74be57",
   "metadata": {},
   "outputs": [
    {
     "name": "stdout",
     "output_type": "stream",
     "text": [
      "[[8 9 4]\n",
      " [8 5 2]\n",
      " [2 6 7]]\n"
     ]
    }
   ],
   "source": [
    "arr = np.random.randint(2, 10, 9)\n",
    "arr = arr.reshape(3, 3)\n",
    "print(arr)"
   ]
  },
  {
   "cell_type": "markdown",
   "id": "f20ec469-6bbd-498a-b46f-1102342ba6c6",
   "metadata": {},
   "source": [
    "20. Write a NumPy program to create an array with values ranging from 12 to 38."
   ]
  },
  {
   "cell_type": "code",
   "execution_count": 62,
   "id": "9e7604b2-44d0-4095-a6d1-9a2a97fc022e",
   "metadata": {},
   "outputs": [
    {
     "name": "stdout",
     "output_type": "stream",
     "text": [
      "[12 13 14 15 16 17 18 19 20 21 22 23 24 25 26 27 28 29 30 31 32 33 34 35\n",
      " 36 37 38]\n"
     ]
    }
   ],
   "source": [
    "arr = np.arange(12, 39)\n",
    "print(arr)"
   ]
  },
  {
   "cell_type": "markdown",
   "id": "911c81ed-3f9c-4933-8681-43ceb7cae1e9",
   "metadata": {},
   "source": [
    "21. Write a NumPy program to reverse an array (the first element becomes the last)."
   ]
  },
  {
   "cell_type": "code",
   "execution_count": 33,
   "id": "c916d804-9dee-40c6-b1e2-358958762e66",
   "metadata": {},
   "outputs": [
    {
     "name": "stdout",
     "output_type": "stream",
     "text": [
      "Array before reverse: [11 44 77 88 55 22]\n",
      "Array after reverse: [22 55 88 77 44 11]\n"
     ]
    }
   ],
   "source": [
    "arr = np.array([11, 44, 77, 88, 55, 22])\n",
    "print(f\"Array before reverse: {arr}\")\n",
    "arr = arr[: : -1]\n",
    "print(f\"Array after reverse: {arr}\")\n"
   ]
  },
  {
   "cell_type": "markdown",
   "id": "bc3d3a29-b812-43e9-876d-eb16eed0c78d",
   "metadata": {},
   "source": [
    "22. Write a NumPy program to convert an data type into to a floating type."
   ]
  },
  {
   "cell_type": "code",
   "execution_count": 55,
   "id": "8787ab6b-c52d-4432-9729-73f7c5cdba3a",
   "metadata": {},
   "outputs": [
    {
     "name": "stdout",
     "output_type": "stream",
     "text": [
      "[10, 20, 30, 40, 50]\n",
      "Type of l1 = <class 'list'>\n",
      "Type of l1 = <class 'numpy.ndarray'>\n",
      "Dtype of l1= float32\n"
     ]
    }
   ],
   "source": [
    "l1 = [10, 20, 30, 40, 50]\n",
    "# l1 = l1, dtype = float\n",
    "print(l1)\n",
    "print(f\"Type of l1 = {type(l1)}\")\n",
    "l1 = np.array(l1, dtype = np.float32)\n",
    "print(f\"Type of l1 = {type(l1)}\")\n",
    "print(f\"Dtype of l1= {l1.dtype}\")"
   ]
  },
  {
   "cell_type": "markdown",
   "id": "c2962e85-7535-4c02-be03-c525877209bc",
   "metadata": {},
   "source": [
    "23. Write a NumPy program to convert a list array."
   ]
  },
  {
   "cell_type": "code",
   "execution_count": 58,
   "id": "d02b45e9-19c0-42b1-9d31-3074d4cec34b",
   "metadata": {},
   "outputs": [
    {
     "name": "stdout",
     "output_type": "stream",
     "text": [
      "[11, 55, 99, 77, 66]\n",
      "Type of l1= <class 'list'>\n",
      "[11. 55. 99. 77. 66.]\n",
      "Type = <class 'numpy.ndarray'>\n",
      "DType = float32\n"
     ]
    }
   ],
   "source": [
    "l1 = [11, 55, 99, 77, 66]\n",
    "print(l1)\n",
    "print(f\"Type of l1= {type(l1)}\")\n",
    "arr = np.array(l1, dtype = np.float32) #Can't change datatypes of floats\n",
    "print(arr)\n",
    "print(f\"Type = {type(arr)}\")\n",
    "print(f\"DType = {arr.dtype}\")"
   ]
  },
  {
   "cell_type": "markdown",
   "id": "c2e02b10-0401-4dbe-9734-5f86f79bc08c",
   "metadata": {},
   "source": [
    "24. Write a NumPy program to get the element-wise remainder of an array of division."
   ]
  },
  {
   "cell_type": "code",
   "execution_count": 60,
   "id": "9df4181e-fb06-4ebf-86a0-407817373789",
   "metadata": {},
   "outputs": [
    {
     "name": "stdout",
     "output_type": "stream",
     "text": [
      "[1 2 3 4 5]\n"
     ]
    }
   ],
   "source": [
    "arr1 = np.array([11, 22, 33, 44, 55])\n",
    "arr2 = np.array([10, 20, 30, 40, 50])\n",
    "print(arr1%arr2)"
   ]
  },
  {
   "cell_type": "markdown",
   "id": "9442fcc2-1c5d-49a9-9191-963a6f6e2f00",
   "metadata": {},
   "source": [
    "25. Write a NumPy program to get the element-wise remainder of an array of numbers from 20 to 50 which are divisible by 3."
   ]
  },
  {
   "cell_type": "code",
   "execution_count": 63,
   "id": "3bdf13a7-b5ef-4acb-9302-7cea787fb61b",
   "metadata": {},
   "outputs": [
    {
     "name": "stdout",
     "output_type": "stream",
     "text": [
      "[2 0 1 2 0 1 2 0 1 2 0 1 2 0 1 2 0 1 2 0 1 2 0 1 2 0 1 2 0 1]\n"
     ]
    }
   ],
   "source": [
    "arr1 = np.arange(20, 50)\n",
    "print(arr1%3)"
   ]
  }
 ],
 "metadata": {
  "kernelspec": {
   "display_name": "Python 3 (ipykernel)",
   "language": "python",
   "name": "python3"
  },
  "language_info": {
   "codemirror_mode": {
    "name": "ipython",
    "version": 3
   },
   "file_extension": ".py",
   "mimetype": "text/x-python",
   "name": "python",
   "nbconvert_exporter": "python",
   "pygments_lexer": "ipython3",
   "version": "3.10.12"
  }
 },
 "nbformat": 4,
 "nbformat_minor": 5
}
